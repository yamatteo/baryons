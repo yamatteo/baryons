{
 "cells": [
  {
   "cell_type": "code",
   "execution_count": 3,
   "id": "93e55a87-15ca-4064-b6a5-560b128202d8",
   "metadata": {},
   "outputs": [],
   "source": [
    "import numpy as np\n",
    "import seaborn as sb\n",
    "import pandas as pd\n",
    "from random import randint, choice\n",
    "import torch\n",
    "from importlib import reload"
   ]
  },
  {
   "cell_type": "code",
   "execution_count": 5,
   "id": "c6403d45-3701-4aa3-8630-db17749d39a3",
   "metadata": {},
   "outputs": [],
   "source": [
    "from gan.dataset import Dataset3D\n",
    "ds = Dataset3D(\"TNG300-1\", \"MASS_1.00e+12_5.00e+12_MSUN\", 256, \"train\", [])\n",
    "dm = ds[0][\"DM\"]\n",
    "gas = ds[0][\"GAS\"]"
   ]
  },
  {
   "cell_type": "code",
   "execution_count": 13,
   "id": "82b2ddc8-79c6-41e2-be46-8ba6fe737ffa",
   "metadata": {},
   "outputs": [
    {
     "name": "stdout",
     "output_type": "stream",
     "text": [
      "indexes = {16, 17, 18, 19, 20, 21, 22, 23, 24, 25, 26, 27, 28, 29, 30, 31, 32, 33, 34, 35, 36, 37, 38, 39, 40, 41, 42, 43, 44, 45, 46, 47, 48, 49, 50, 51, 52, 53, 54, 55, 56, 57, 58, 59, 60, 61, 62, 63, 64, 65, 66, 67, 68, 69, 70, 71, 72, 73, 74, 75, 76, 77, 78, 79, 80, 81, 82, 83, 84, 85, 86, 87, 88, 89, 90, 91, 92, 93, 94, 95, 96, 97, 98, 99, 100, 101, 102, 103, 104}\n",
      "indexes = {64, 65, 66, 67, 68, 69, 70, 71, 72, 57, 58, 59, 60, 61, 62, 63}\n"
     ]
    }
   ],
   "source": [
    "import visualization.slice_selection as ss\n",
    "\n",
    "select_slice = ss.select_slice\n",
    "sdm, sgas = select_slice(dm, gas, weight=0.4)"
   ]
  },
  {
   "cell_type": "code",
   "execution_count": 19,
   "id": "f1add068-b875-4ac6-aa58-37c66bb76219",
   "metadata": {},
   "outputs": [
    {
     "data": {
      "image/png": "[encoded data removed]",
      "text/plain": [
       "<Figure size 432x288 with 2 Axes>"
      ]
     },
     "metadata": {},
     "output_type": "display_data"
    }
   ],
   "source": [
    "import visualization.heatmap as hm\n",
    "reload(hm)\n",
    "\n",
    "fig, ax = hm.heatmap_plot(sdm.squeeze(), sgas.squeeze(), title=\"Random title\", subplot_titles=(\"real dark matter\", \"real gas\"))"
   ]
  }
 ],
 "metadata": {
  "kernelspec": {
   "display_name": "baryons",
   "language": "python",
   "name": "baryons"
  },
  "language_info": {
   "codemirror_mode": {
    "name": "ipython",
    "version": 3
   },
   "file_extension": ".py",
   "mimetype": "text/x-python",
   "name": "python",
   "nbconvert_exporter": "python",
   "pygments_lexer": "ipython3",
   "version": "3.9.9"
  }
 },
 "nbformat": 4,
 "nbformat_minor": 5
}
