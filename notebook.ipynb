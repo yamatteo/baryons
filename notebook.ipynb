{
 "cells": [
  {
   "cell_type": "markdown",
   "id": "f523919c-72a1-4665-8fc8-81d964aac713",
   "metadata": {
    "tags": []
   },
   "source": [
    "## Running the gan with different parameters and architectures a evalute the outcomes on small scale simulations."
   ]
  },
  {
   "cell_type": "markdown",
   "id": "5722100b-6aeb-4d04-8f6b-877b1e56f6bf",
   "metadata": {},
   "source": [
    "Run the simulations with\n",
    "```\n",
    "python main.py\n",
    "```\n",
    "\n",
    "Options are read from `defaults.py` and overridden by options in an `options.py` file, if present. So copy and rename `defaults.py` without modifying it and change options in `options.py`.\n",
    "\n",
    "If an option is a list, e.g. `generator_depth = [4, 5, 6]`, the program will run multiple times with different parameters, logging the results. Attention: making to many parameters into a list may take long time because the program will run every combination in the cartesian product.\n",
    "\n",
    "Process is logged in `last_run.log` and metrics about the runs are saved in `last_run.csv`."
   ]
  },
  {
   "cell_type": "code",
   "execution_count": 2,
   "id": "b6a6b6a7-63f8-4862-85d0-bb0475ba0597",
   "metadata": {},
   "outputs": [],
   "source": [
    "import numpy as np\n",
    "import seaborn as sb\n",
    "import pandas as pd\n",
    "from random import randint, choice\n",
    "import torch\n",
    "from importlib import reload\n",
    "import os\n",
    "import glob\n",
    "from types import SimpleNamespace\n",
    "import logging\n",
    "import visualization"
   ]
  },
  {
   "cell_type": "code",
   "execution_count": 5,
   "id": "db3f2373-4411-424b-8ce5-1063888d018d",
   "metadata": {},
   "outputs": [
    {
     "data": {
      "text/plain": [
       "<seaborn.axisgrid.FacetGrid at 0x7f47afd15ac0>"
      ]
     },
     "execution_count": 5,
     "metadata": {},
     "output_type": "execute_result"
    },
    {
     "data": {
      "image/png": "[encoded data removed]",
      "text/plain": [
       "<Figure size 216x216 with 1 Axes>"
      ]
     },
     "metadata": {
      "needs_background": "light"
     },
     "output_type": "display_data"
    }
   ],
   "source": [
    "gm = pd.read_csv(\"last_run.csv\")\n",
    "g = sb.FacetGrid(gm, col=\"num_filtes\")\n",
    "g.map(sb.lineplot, \"epoch\", \"loss_g\")"
   ]
  }
 ],
 "metadata": {
  "kernelspec": {
   "display_name": "baryons",
   "language": "python",
   "name": "baryons"
  },
  "language_info": {
   "codemirror_mode": {
    "name": "ipython",
    "version": 3
   },
   "file_extension": ".py",
   "mimetype": "text/x-python",
   "name": "python",
   "nbconvert_exporter": "python",
   "pygments_lexer": "ipython3",
   "version": "3.9.9"
  }
 },
 "nbformat": 4,
 "nbformat_minor": 5
}
